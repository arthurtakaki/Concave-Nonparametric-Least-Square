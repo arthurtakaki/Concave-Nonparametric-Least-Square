{
 "cells": [
  {
   "cell_type": "markdown",
   "metadata": {},
   "source": [
    "### Importing main dependecies"
   ]
  },
  {
   "cell_type": "code",
   "execution_count": 1,
   "metadata": {
    "collapsed": true
   },
   "outputs": [],
   "source": [
    "import numpy as np\n",
    "from scipy.optimize import minimize"
   ]
  },
  {
   "cell_type": "markdown",
   "metadata": {},
   "source": [
    "### Data"
   ]
  },
  {
   "cell_type": "code",
   "execution_count": 2,
   "metadata": {},
   "outputs": [
    {
     "name": "stdout",
     "output_type": "stream",
     "text": [
      "Inputs:  (33, 1)\n",
      "Outputs:  (33, 1)\n",
      "data shape: (66,)\n"
     ]
    }
   ],
   "source": [
    "data_outputs =  np.array([[262521.02907266,346760.656260418,461290.60448595,344188.863677228,294231.297066693,345783.525320436,670122.214940625,786296.233232622,727266.439858377,687145.593548194,613688.786934742,177792.367994311,411511.034331357,475665.819349655,2102727.8261244,337951.80373594,249122.662771625,985591.107898336,462249.512119451,1162960.84406201,219543.804449336,269794.86660802,655462.207361263,397384.070821253,106815.706326885,1092761.76551572,95351.9114732475,401326.485602659,244175.697125257,340890.953115421,162342.780828482,757537.710512358,273569.38914776]])/10000\n",
    "data_outputs = np.transpose(data_outputs)\n",
    "data_inputs =np.array([[66340.66664431],[43983.62],[55783.9667751247],[27521.3753251431],[41283],[19147.96],[55620.26491],[151465.12],[215567.507554621],[116756.978720517],[132607.15],[83766.1023802807],[125549.065648061],[166179.32],[503695.91],[86860.16263],[53314.9],[262555.258252406],[137649.034],[235881.91],[51067],[23269.3],[123209.322],[110915.32575],[18410],[47335.086682134],[27061.378],[87213.8],[69882.77],[60840.5736579949],[27137.42],[72536.3],[82441.55]])/100000\n",
    "\n",
    "print('Inputs: ',data_inputs.shape)\n",
    "print('Outputs: ',data_outputs.shape)\n",
    "inputs = np.copy(data_inputs)\n",
    "outputs = np.copy(data_outputs)\n",
    "\n",
    "#flatting data\n",
    "inputs = inputs.flatten('F')\n",
    "outputs = outputs.flatten()\n",
    "\n",
    "#horizontal stacking\n",
    "data = np.around(np.hstack((outputs,inputs)),decimals=3)\n",
    "print('data shape:',data.shape)"
   ]
  },
  {
   "cell_type": "markdown",
   "metadata": {},
   "source": [
    "### Vector with Alphas an Betas to Initialize"
   ]
  },
  {
   "cell_type": "code",
   "execution_count": 3,
   "metadata": {},
   "outputs": [
    {
     "name": "stdout",
     "output_type": "stream",
     "text": [
      "parameters shape: (66,)\n"
     ]
    }
   ],
   "source": [
    "alpha = np.random.normal(1,0.1,(outputs.shape))\n",
    "#alpha = np.array([[2.625,0.229,0.229,0.229]])\n",
    "beta = np.random.normal(1,0.1,(inputs.shape))\n",
    "#beta = np.array([[0],[3.611],[3.611],[3.611]])\n",
    "#flatting data\n",
    "alpha = alpha.flatten()\n",
    "beta = beta.flatten()\n",
    "\n",
    "#horizontal stacking\n",
    "parameters = np.around(np.hstack((alpha,beta)),decimals=3)\n",
    "print('parameters shape:',parameters.shape)"
   ]
  },
  {
   "cell_type": "markdown",
   "metadata": {},
   "source": [
    "### Function to Minimize"
   ]
  },
  {
   "cell_type": "code",
   "execution_count": 4,
   "metadata": {
    "collapsed": true
   },
   "outputs": [],
   "source": [
    "def function_to_minimize(p):\n",
    "    function = 0.0\n",
    "    h = outputs.shape[0]\n",
    "    i = 0\n",
    "    while i < outputs.shape[0]:\n",
    "        function += (p[i] - data[i] + data[i + h]*p[i + h])**2\n",
    "        i += 1\n",
    "    return function\n",
    "#print(function_to_minimize(parameters))"
   ]
  },
  {
   "cell_type": "markdown",
   "metadata": {},
   "source": [
    "### Constraints"
   ]
  },
  {
   "cell_type": "code",
   "execution_count": 5,
   "metadata": {
    "collapsed": true
   },
   "outputs": [],
   "source": [
    "cons='('\n",
    "i = 0 \n",
    "c = outputs.shape[0]\n",
    "while i < c:\n",
    "    j = 0\n",
    "    while j < c:\n",
    "        if i != j:\n",
    "            str1='{\\'type\\': \\'ineq\\', \\'fun\\': lambda p: -(p['+str(i)+    '] + p['+str(i+c)+']*data['+str(c+i)+'])' \n",
    "            str2=                                     '+( p['+str(j)+'] + p['+str(j+c)+']*data['+str(c+i)+'])}'\n",
    "            cons =cons+str1+str2+',\\n'\n",
    "            j +=1\n",
    "        else:\n",
    "            if i == outputs.shape[0]-1:\n",
    "                cons = cons + ')'\n",
    "            j+=1\n",
    "    i += 1\n",
    "cons = eval(cons)\n",
    "#print(cons)"
   ]
  },
  {
   "cell_type": "markdown",
   "metadata": {},
   "source": [
    "### Bounds"
   ]
  },
  {
   "cell_type": "code",
   "execution_count": 6,
   "metadata": {
    "collapsed": true
   },
   "outputs": [],
   "source": [
    "bounds = '('\n",
    "for i in range(outputs.shape[0]):\n",
    "    bounds += '(None,None),'\n",
    "bounds+='\\n'\n",
    "for i in range(inputs.shape[0]):\n",
    "    bounds += '(0,None),'\n",
    "bounds += ')'\n",
    "\n",
    "bounds = eval(bounds)"
   ]
  },
  {
   "cell_type": "markdown",
   "metadata": {},
   "source": [
    "### Optimizing"
   ]
  },
  {
   "cell_type": "code",
   "execution_count": 7,
   "metadata": {},
   "outputs": [
    {
     "name": "stdout",
     "output_type": "stream",
     "text": [
      "Optimization terminated successfully.\n",
      "iterations: 27\n"
     ]
    }
   ],
   "source": [
    "evaluation = minimize(function_to_minimize,parameters,method='SLSQP',bounds=bounds,constraints =cons)\n",
    "print(evaluation['message'])\n",
    "print('iterations:',evaluation['nit'])\n",
    "\n",
    "vetor = evaluation['x']"
   ]
  },
  {
   "cell_type": "code",
   "execution_count": 8,
   "metadata": {},
   "outputs": [
    {
     "name": "stdout",
     "output_type": "stream",
     "text": [
      "Optimization terminated successfully.\n",
      "iterations: 5\n",
      "[   15.79473323    15.79473322    15.79473323    15.79473322    15.79473322\n",
      "   -30.66811942    15.79473323    15.79473329    15.79473329    15.79473328\n",
      "    15.79473329    15.79473326    15.79473328    15.79473329    36.01607462\n",
      "    15.79473327    15.79473323    15.79473329    15.79473329    15.79473329\n",
      "    15.79473323    15.79473322    15.79473328    15.79473327  -299.24316956\n",
      "    15.79473323    15.79473322    15.79473327    15.79473323    15.79473323\n",
      "    15.79473322    15.79473323    15.79473323    34.9562511     34.95625112\n",
      "    34.95625111    34.95625113    34.95625112   278.2172597     34.95625111\n",
      "    34.95625104    34.95625104    34.95625105    34.95625105    34.95625107\n",
      "    34.95625105    34.95625104    30.94169052    34.95625106    34.95625111\n",
      "    34.95625104    34.95625104    34.95625104    34.95625111    34.95625113\n",
      "    34.95625105    34.95625105  1684.37323008    34.95625111    34.95625113\n",
      "    34.95625105    34.9562511     34.95625111    34.95625113    34.9562511\n",
      "    34.9562511 ]\n"
     ]
    }
   ],
   "source": [
    "parameters = vetor\n",
    "evaluation = minimize(function_to_minimize,parameters,method='SLSQP',bounds=bounds,constraints =cons)\n",
    "print(evaluation['message'])\n",
    "print('iterations:',evaluation['nit'])\n",
    "\n",
    "vetor = evaluation['x']\n",
    "print(vetor)"
   ]
  },
  {
   "cell_type": "markdown",
   "metadata": {
    "collapsed": true
   },
   "source": [
    "### Parameters Alphas and Betas"
   ]
  },
  {
   "cell_type": "code",
   "execution_count": 9,
   "metadata": {},
   "outputs": [
    {
     "name": "stdout",
     "output_type": "stream",
     "text": [
      "[  15.7947   15.7947   15.7947   15.7947   15.7947  -30.6681   15.7947\n",
      "   15.7947   15.7947   15.7947   15.7947   15.7947   15.7947   15.7947\n",
      "   36.0161   15.7947   15.7947   15.7947   15.7947   15.7947   15.7947\n",
      "   15.7947   15.7947   15.7947 -299.2432   15.7947   15.7947   15.7947\n",
      "   15.7947   15.7947   15.7947   15.7947   15.7947]\n",
      "[[ -299.2432  1684.3732]\n",
      " [  -30.6681   278.2173]\n",
      " [   15.7947    34.9563]\n",
      " [   36.0161    30.9417]]\n"
     ]
    }
   ],
   "source": [
    "alphas,betas = np.around(np.split(vetor,2),decimals=4)\n",
    "#alphas = np.expand_dims(alphas,axis=0)\n",
    "#betas = np.expand_dims(betas,axis=0)\n",
    "print(alphas)\n",
    "\n",
    "matrixAB = np.vstack((alphas,betas))\n",
    "matrixAB = matrixAB.T\n",
    "main_hyperplanes = np.unique(matrixAB,axis=0)\n",
    "print(main_hyperplanes)"
   ]
  },
  {
   "cell_type": "markdown",
   "metadata": {},
   "source": [
    "### Looking for the Highest error to fit the envelopment"
   ]
  },
  {
   "cell_type": "code",
   "execution_count": 10,
   "metadata": {
    "collapsed": true
   },
   "outputs": [],
   "source": [
    "def highest_error(p):\n",
    "    array = np.array([0])\n",
    "    function = 0.0\n",
    "    h = outputs.shape[0]\n",
    "    i = 0\n",
    "    while i < outputs.shape[0]:\n",
    "        function = -p[i] + data[i] - data[i + h]*p[i + h]\n",
    "        array = np.append(array,[function])\n",
    "        i += 1\n",
    "    return array\n",
    "\n",
    "correct = np.amax(highest_error(vetor))"
   ]
  },
  {
   "cell_type": "markdown",
   "metadata": {},
   "source": [
    "### Adjusting the Alpha values for envelopment"
   ]
  },
  {
   "cell_type": "code",
   "execution_count": 11,
   "metadata": {},
   "outputs": [
    {
     "name": "stdout",
     "output_type": "stream",
     "text": [
      "[[ -222.29624  1684.3732 ]\n",
      " [   46.27886   278.2173 ]\n",
      " [   92.74166    34.9563 ]\n",
      " [  112.96306    30.9417 ]]\n"
     ]
    }
   ],
   "source": [
    "for i in range(0,main_hyperplanes.shape[0]):\n",
    "    main_hyperplanes[i][0] += correct\n",
    "print(main_hyperplanes)\n"
   ]
  },
  {
   "cell_type": "markdown",
   "metadata": {},
   "source": [
    "### Ploting Results"
   ]
  },
  {
   "cell_type": "code",
   "execution_count": 13,
   "metadata": {},
   "outputs": [
    {
     "data": {
      "image/png": "[encoded data removed]",
      "text/plain": [
       "<matplotlib.figure.Figure at 0x116caaa58>"
      ]
     },
     "metadata": {},
     "output_type": "display_data"
    }
   ],
   "source": [
    "import matplotlib.pyplot as plt\n",
    "\n",
    "plt.figure(figsize=(15,10))\n",
    "for j in range(0,main_hyperplanes.shape[0]):\n",
    "    x = [i for i in range(0,5)]\n",
    "    y = [main_hyperplanes[j][0]+ main_hyperplanes[j][1]*i for i in x]\n",
    "    plt.plot(x,y)\n",
    "\n",
    "plt.plot(inputs,outputs,'ro')\n",
    "plt.ylim(0,250)\n",
    "\n",
    "plt.show()"
   ]
  },
  {
   "cell_type": "code",
   "execution_count": null,
   "metadata": {
    "collapsed": true
   },
   "outputs": [],
   "source": []
  }
 ],
 "metadata": {
  "kernelspec": {
   "display_name": "Python 3",
   "language": "python",
   "name": "python3"
  },
  "language_info": {
   "codemirror_mode": {
    "name": "ipython",
    "version": 3
   },
   "file_extension": ".py",
   "mimetype": "text/x-python",
   "name": "python",
   "nbconvert_exporter": "python",
   "pygments_lexer": "ipython3",
   "version": "3.6.0"
  }
 },
 "nbformat": 4,
 "nbformat_minor": 2
}
